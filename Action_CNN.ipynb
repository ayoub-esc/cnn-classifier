{
 "cells": [
  {
   "cell_type": "code",
   "execution_count": 1,
   "metadata": {
    "colab": {},
    "colab_type": "code",
    "id": "sDLBxflrkikP"
   },
   "outputs": [],
   "source": [
    "import torch\n",
    "import torch.nn as nn\n",
    "import torch.optim as optim\n",
    "from torch.autograd import Variable\n",
    "from torch.utils.data import DataLoader,sampler,Dataset\n",
    "import torchvision.datasets as dset\n",
    "import torchvision.transforms as T\n",
    "import timeit\n",
    "from PIL import Image\n",
    "import os\n",
    "import numpy as np\n",
    "import scipy.io\n"
   ]
  },
  {
   "cell_type": "markdown",
   "metadata": {
    "colab_type": "text",
    "id": "QElCZx6Lkikk"
   },
   "source": [
    "## What's this PyTorch business?\n",
    "\n",
    "* When using a framework like PyTorch or TensorFlow you can harness the power of the GPU for your own custom neural network architectures without having to write CUDA code directly.\n",
    "* this notebook will walk you through much of what you need to do to train models using pytorch. if you want to learn more or need further clarification on topics that aren't fully explained here, here are 2 good Pytorch tutorials. 1): http://pytorch.org/tutorials/beginner/deep_learning_60min_blitz.html 2)http://pytorch.org/tutorials/beginner/pytorch_with_examples.html\n",
    "* It's not necessary to have a GPU for this homework, using a GPU can make your code run faster.\n"
   ]
  },
  {
   "cell_type": "markdown",
   "metadata": {
    "colab_type": "text",
    "id": "9E8N5CS8kikp"
   },
   "source": [
    "## Load Datasets\n",
    "\n",
    "In this part, we will load the action recognition dataset for the neural network. In order to load data from our custom dataset, we need to write a custom Dataloader. If you have hw6_data.mat, /valClips,/trainClips,/testClips under the folder of ./data/ , you do not need to change anything in this part."
   ]
  },
  {
   "cell_type": "markdown",
   "metadata": {
    "colab_type": "text",
    "id": "9D-QCMmzkikv"
   },
   "source": [
    "First, load the labels of the dataset, you should write your path of the hw6_data.mat file."
   ]
  },
  {
   "cell_type": "code",
   "execution_count": 2,
   "metadata": {
    "colab": {},
    "colab_type": "code",
    "id": "ruJKe2KPkik3"
   },
   "outputs": [
    {
     "name": "stdout",
     "output_type": "stream",
     "text": [
      "7770\n",
      "2230\n"
     ]
    }
   ],
   "source": [
    "label_mat=scipy.io.loadmat('./data/hw6_data.mat')\n",
    "label_train=label_mat['trLb']\n",
    "print(len(label_train))\n",
    "label_val=label_mat['valLb']\n",
    "print(len(label_val))"
   ]
  },
  {
   "cell_type": "markdown",
   "metadata": {
    "colab_type": "text",
    "id": "O7YeCsVGkilG"
   },
   "source": [
    "### Dataset class\n",
    "\n",
    "torch.utils.data.Dataset is an abstract class representing a dataset. The custom dataset should inherit Dataset and override the following methods:\n",
    "\n",
    "    __len__ so that len(dataset) returns the size of the dataset.\n",
    "    __getitem__ to support the indexing such that dataset[i] can be used to get ith sample\n",
    "\n",
    "Let’s create a dataset class for our action recognition dataset. We will read images in __getitem__. This is memory efficient because all the images are not stored in the memory at once but read as required.\n",
    "\n",
    "Sample of our dataset will be a dict {'image':image,'img_path':img_path,'Label':Label}. Our datset will take an optional argument transform so that any required processing can be applied on the sample. "
   ]
  },
  {
   "cell_type": "code",
   "execution_count": 3,
   "metadata": {
    "colab": {},
    "colab_type": "code",
    "id": "gwoCMo8XkilH"
   },
   "outputs": [],
   "source": [
    "\n",
    "class ActionDataset(Dataset):\n",
    "    \"\"\"Action dataset.\"\"\"\n",
    "\n",
    "    def __init__(self,  root_dir,labels=[], transform=None):\n",
    "        \"\"\"\n",
    "        Args:\n",
    "            root_dir (string): Directory with all the images.\n",
    "            labels(list): labels if images.\n",
    "            transform (callable, optional): Optional transform to be applied on a sample.\n",
    "        \"\"\"\n",
    "        self.root_dir = root_dir\n",
    "        self.transform = transform\n",
    "        self.length=len(os.listdir(self.root_dir))\n",
    "        self.labels=labels\n",
    "    def __len__(self):\n",
    "        return self.length*3\n",
    "\n",
    "    def __getitem__(self, idx):\n",
    "        \n",
    "        folder=idx//3+1\n",
    "        imidx=idx%3+1\n",
    "        folder=format(folder,'05')\n",
    "        imgname=str(imidx)+'.jpg'\n",
    "        img_path = os.path.join(self.root_dir,\n",
    "                                folder,imgname)\n",
    "        image = Image.open(img_path)\n",
    "        if len(self.labels)!=0:\n",
    "            Label=self.labels[idx//3][0]-1\n",
    "        if self.transform:\n",
    "            image = self.transform(image)\n",
    "        if len(self.labels)!=0:\n",
    "            sample={'image':image,'img_path':img_path,'Label':Label}\n",
    "        else:\n",
    "            sample={'image':image,'img_path':img_path}\n",
    "        return sample\n",
    "  "
   ]
  },
  {
   "cell_type": "markdown",
   "metadata": {
    "colab_type": "text",
    "id": "uWuBpSGfkilQ"
   },
   "source": [
    "Iterating over the dataset by a for loop."
   ]
  },
  {
   "cell_type": "code",
   "execution_count": 4,
   "metadata": {
    "colab": {},
    "colab_type": "code",
    "id": "hpN7YzC1kilR"
   },
   "outputs": [
    {
     "name": "stdout",
     "output_type": "stream",
     "text": [
      "torch.Size([3, 64, 64])\n",
      "0.0\n",
      "./data/trainClips/00001/1.jpg\n",
      "torch.Size([3, 64, 64])\n",
      "0.0\n",
      "./data/trainClips/00001/2.jpg\n",
      "torch.Size([3, 64, 64])\n",
      "0.0\n",
      "./data/trainClips/00001/3.jpg\n",
      "torch.Size([3, 64, 64])\n",
      "0.0\n",
      "./data/trainClips/00002/1.jpg\n",
      "torch.Size([3, 64, 64])\n",
      "0.0\n",
      "./data/trainClips/00002/2.jpg\n",
      "torch.Size([3, 64, 64])\n",
      "0.0\n",
      "./data/trainClips/00002/3.jpg\n",
      "torch.Size([3, 64, 64])\n",
      "0.0\n",
      "./data/trainClips/00003/1.jpg\n",
      "torch.Size([3, 64, 64])\n",
      "0.0\n",
      "./data/trainClips/00003/2.jpg\n",
      "torch.Size([3, 64, 64])\n",
      "0.0\n",
      "./data/trainClips/00003/3.jpg\n",
      "torch.Size([3, 64, 64])\n",
      "0.0\n",
      "./data/trainClips/00004/1.jpg\n"
     ]
    }
   ],
   "source": [
    "image_dataset=ActionDataset(root_dir='./data/trainClips/',\\\n",
    "                            labels=label_train,transform=T.ToTensor())\n",
    "\n",
    "#iterating though the dataset\n",
    "for i in range(10):\n",
    "    sample=image_dataset[i]\n",
    "    print(sample['image'].shape)\n",
    "    print(sample['Label'])\n",
    "    print(sample['img_path'])\n",
    "     \n",
    "   "
   ]
  },
  {
   "cell_type": "markdown",
   "metadata": {
    "colab_type": "text",
    "id": "Cg4HxucHkilW"
   },
   "source": [
    "We can iterate over the created dataset with a 'for' loop as before. However, we are losing a lot of features by using a simple for loop to iterate over the data. In particular, we are missing out on:\n",
    "\n",
    "* Batching the data\n",
    "* Shuffling the data\n",
    "* Load the data in parallel using multiprocessing workers.\n",
    "\n",
    "torch.utils.data.DataLoader is an iterator which provides all these features. "
   ]
  },
  {
   "cell_type": "code",
   "execution_count": 5,
   "metadata": {
    "colab": {},
    "colab_type": "code",
    "id": "R_kyIRhJkilY"
   },
   "outputs": [
    {
     "name": "stdout",
     "output_type": "stream",
     "text": [
      "0 torch.Size([4, 3, 64, 64]) ['./data/trainClips/00179/2.jpg', './data/trainClips/05873/2.jpg', './data/trainClips/01474/1.jpg', './data/trainClips/07357/3.jpg'] tensor([0., 7., 1., 9.], dtype=torch.float64)\n",
      "1 torch.Size([4, 3, 64, 64]) ['./data/trainClips/04871/3.jpg', './data/trainClips/05436/1.jpg', './data/trainClips/06341/1.jpg', './data/trainClips/02722/2.jpg'] tensor([5., 6., 7., 3.], dtype=torch.float64)\n",
      "2 torch.Size([4, 3, 64, 64]) ['./data/trainClips/00923/2.jpg', './data/trainClips/07697/1.jpg', './data/trainClips/00306/1.jpg', './data/trainClips/06579/2.jpg'] tensor([1., 9., 0., 8.], dtype=torch.float64)\n",
      "3 torch.Size([4, 3, 64, 64]) ['./data/trainClips/05082/3.jpg', './data/trainClips/07609/1.jpg', './data/trainClips/03155/2.jpg', './data/trainClips/05036/2.jpg'] tensor([6., 9., 3., 6.], dtype=torch.float64)\n",
      "4 torch.Size([4, 3, 64, 64]) ['./data/trainClips/07476/1.jpg', './data/trainClips/07712/2.jpg', './data/trainClips/04559/3.jpg', './data/trainClips/06308/3.jpg'] tensor([9., 9., 5., 7.], dtype=torch.float64)\n",
      "5 torch.Size([4, 3, 64, 64]) ['./data/trainClips/06509/3.jpg', './data/trainClips/04717/1.jpg', './data/trainClips/07490/3.jpg', './data/trainClips/04629/3.jpg'] tensor([8., 5., 9., 5.], dtype=torch.float64)\n",
      "6 torch.Size([4, 3, 64, 64]) ['./data/trainClips/07257/2.jpg', './data/trainClips/05868/3.jpg', './data/trainClips/01827/1.jpg', './data/trainClips/02524/3.jpg'] tensor([9., 7., 2., 2.], dtype=torch.float64)\n",
      "7 torch.Size([4, 3, 64, 64]) ['./data/trainClips/04493/3.jpg', './data/trainClips/01574/1.jpg', './data/trainClips/00868/3.jpg', './data/trainClips/00058/3.jpg'] tensor([5., 1., 0., 0.], dtype=torch.float64)\n",
      "8 torch.Size([4, 3, 64, 64]) ['./data/trainClips/06007/1.jpg', './data/trainClips/00611/1.jpg', './data/trainClips/06400/3.jpg', './data/trainClips/05603/1.jpg'] tensor([7., 0., 7., 6.], dtype=torch.float64)\n",
      "9 torch.Size([4, 3, 64, 64]) ['./data/trainClips/04439/1.jpg', './data/trainClips/05560/2.jpg', './data/trainClips/07638/3.jpg', './data/trainClips/02251/2.jpg'] tensor([5., 6., 9., 2.], dtype=torch.float64)\n",
      "10 torch.Size([4, 3, 64, 64]) ['./data/trainClips/01747/2.jpg', './data/trainClips/00125/2.jpg', './data/trainClips/04803/1.jpg', './data/trainClips/07471/2.jpg'] tensor([1., 0., 5., 9.], dtype=torch.float64)\n",
      "11 torch.Size([4, 3, 64, 64]) ['./data/trainClips/00839/1.jpg', './data/trainClips/01038/1.jpg', './data/trainClips/04843/3.jpg', './data/trainClips/05827/3.jpg'] tensor([0., 1., 5., 7.], dtype=torch.float64)\n",
      "12 torch.Size([4, 3, 64, 64]) ['./data/trainClips/06335/2.jpg', './data/trainClips/03652/3.jpg', './data/trainClips/06746/1.jpg', './data/trainClips/07266/2.jpg'] tensor([7., 4., 8., 9.], dtype=torch.float64)\n",
      "13 torch.Size([4, 3, 64, 64]) ['./data/trainClips/04507/3.jpg', './data/trainClips/05578/2.jpg', './data/trainClips/07078/1.jpg', './data/trainClips/01448/1.jpg'] tensor([5., 6., 8., 1.], dtype=torch.float64)\n",
      "14 torch.Size([4, 3, 64, 64]) ['./data/trainClips/05798/1.jpg', './data/trainClips/06691/3.jpg', './data/trainClips/00497/3.jpg', './data/trainClips/04155/3.jpg'] tensor([7., 8., 0., 4.], dtype=torch.float64)\n",
      "15 torch.Size([4, 3, 64, 64]) ['./data/trainClips/07723/1.jpg', './data/trainClips/02468/1.jpg', './data/trainClips/01725/2.jpg', './data/trainClips/04349/2.jpg'] tensor([9., 2., 1., 5.], dtype=torch.float64)\n",
      "16 torch.Size([4, 3, 64, 64]) ['./data/trainClips/06139/2.jpg', './data/trainClips/01968/2.jpg', './data/trainClips/05883/2.jpg', './data/trainClips/04591/3.jpg'] tensor([7., 2., 7., 5.], dtype=torch.float64)\n",
      "17 torch.Size([4, 3, 64, 64]) ['./data/trainClips/03632/2.jpg', './data/trainClips/03112/1.jpg', './data/trainClips/07746/2.jpg', './data/trainClips/05235/1.jpg'] tensor([4., 3., 9., 6.], dtype=torch.float64)\n",
      "18 torch.Size([4, 3, 64, 64]) ['./data/trainClips/01238/3.jpg', './data/trainClips/04613/2.jpg', './data/trainClips/01223/3.jpg', './data/trainClips/04392/3.jpg'] tensor([1., 5., 1., 5.], dtype=torch.float64)\n",
      "19 torch.Size([4, 3, 64, 64]) ['./data/trainClips/06975/3.jpg', './data/trainClips/07617/2.jpg', './data/trainClips/06178/1.jpg', './data/trainClips/00965/2.jpg'] tensor([8., 9., 7., 1.], dtype=torch.float64)\n",
      "20 torch.Size([4, 3, 64, 64]) ['./data/trainClips/01394/2.jpg', './data/trainClips/03487/1.jpg', './data/trainClips/04809/3.jpg', './data/trainClips/02814/1.jpg'] tensor([1., 3., 5., 3.], dtype=torch.float64)\n",
      "21 torch.Size([4, 3, 64, 64]) ['./data/trainClips/02846/2.jpg', './data/trainClips/00671/1.jpg', './data/trainClips/06714/2.jpg', './data/trainClips/06261/1.jpg'] tensor([3., 0., 8., 7.], dtype=torch.float64)\n"
     ]
    }
   ],
   "source": [
    "image_dataloader = DataLoader(image_dataset, batch_size=4,\n",
    "                        shuffle=True, num_workers=4)\n",
    "\n",
    "\n",
    "for i,sample in enumerate(image_dataloader):\n",
    "    sample['image']=sample['image']   #.cuda()\n",
    "    print(i,sample['image'].shape,sample['img_path'],sample['Label'])\n",
    "    if i>20: \n",
    "        break"
   ]
  },
  {
   "cell_type": "markdown",
   "metadata": {
    "colab_type": "text",
    "id": "XWlY1-Tpkild"
   },
   "source": [
    "Dataloaders for the training, validationg and testing set. "
   ]
  },
  {
   "cell_type": "code",
   "execution_count": 6,
   "metadata": {
    "colab": {},
    "colab_type": "code",
    "id": "88bh4JpKkile"
   },
   "outputs": [],
   "source": [
    "image_dataset_train=ActionDataset(root_dir='./data/trainClips/',labels=label_train,transform=T.ToTensor())\n",
    "\n",
    "image_dataloader_train = DataLoader(image_dataset_train, batch_size=32,\n",
    "                        shuffle=True, num_workers=4)\n",
    "image_dataset_val=ActionDataset(root_dir='./data/valClips/',labels=label_val,transform=T.ToTensor())\n",
    "\n",
    "image_dataloader_val = DataLoader(image_dataset_val, batch_size=32,\n",
    "                        shuffle=False, num_workers=4)\n",
    "image_dataset_test=ActionDataset(root_dir='./data/testClips/',labels=[],transform=T.ToTensor())\n",
    "\n",
    "image_dataloader_test = DataLoader(image_dataset_test, batch_size=32,\n",
    "                        shuffle=False, num_workers=4)"
   ]
  },
  {
   "cell_type": "code",
   "execution_count": 10,
   "metadata": {
    "colab": {},
    "colab_type": "code",
    "id": "NlHfd8Opkili"
   },
   "outputs": [],
   "source": [
    "dtype = torch.FloatTensor # the CPU datatype\n",
    "# Constant to control how frequently we print train loss\n",
    "print_every = 100\n",
    "# This is a little utility that we'll use to reset the model\n",
    "# if we want to re-initialize all our parameters\n",
    "def reset(m):\n",
    "    if hasattr(m, 'reset_parameters'):\n",
    "        m.reset_parameters()"
   ]
  },
  {
   "cell_type": "markdown",
   "metadata": {
    "colab_type": "text",
    "id": "w5Vwl83Lkill"
   },
   "source": [
    "## Example Model\n",
    "\n",
    "### Some assorted tidbits\n",
    "\n",
    "Let's start by looking at a simple model. First, note that PyTorch operates on Tensors, which are n-dimensional arrays functionally analogous to numpy's ndarrays, with the additional feature that they can be used for computations on GPUs.\n",
    "\n",
    "We'll provide you with a Flatten function, which we explain here. Remember that our image data (and more relevantly, our intermediate feature maps) are initially N x C x H x W, where:\n",
    "* N is the number of datapoints\n",
    "* C is the number of image channels. \n",
    "* H is the height of the intermediate feature map in pixels\n",
    "* W is the height of the intermediate feature map in pixels\n",
    "\n",
    "This is the right way to represent the data when we are doing something like a 2D convolution, that needs spatial understanding of where the intermediate features are relative to each other. When we input  data into fully connected affine layers, however, we want each datapoint to be represented by a single vector -- it's no longer useful to segregate the different channels, rows, and columns of the data. So, we use a \"Flatten\" operation to collapse the C x H x W values per representation into a single long vector. The Flatten function below first reads in the N, C, H, and W values from a given batch of data, and then returns a \"view\" of that data. \"View\" is analogous to numpy's \"reshape\" method: it reshapes x's dimensions to be N x ??, where ?? is allowed to be anything (in this case, it will be C x H x W, but we don't need to specify that explicitly). "
   ]
  },
  {
   "cell_type": "code",
   "execution_count": 9,
   "metadata": {
    "colab": {},
    "colab_type": "code",
    "id": "SfjCjTsnkilm"
   },
   "outputs": [],
   "source": [
    "class Flatten(nn.Module):\n",
    "    def forward(self, x):\n",
    "        N, C, H, W = x.size() # read in N, C, H, W\n",
    "        return x.view(N, -1)  # \"flatten\" the C * H * W values into a single vector per image"
   ]
  },
  {
   "cell_type": "markdown",
   "metadata": {
    "colab_type": "text",
    "id": "M0akDg9Zkilp"
   },
   "source": [
    "### The example model itself\n",
    "\n",
    "The first step to training your own model is defining its architecture.\n",
    "\n",
    "Here's an example of a convolutional neural network defined in PyTorch -- try to understand what each line is doing, remembering that each layer is composed upon the previous layer. We haven't trained anything yet - that'll come next - for now, we want you to understand how everything gets set up.  nn.Sequential is a container which applies each layer\n",
    "one after the other.\n",
    "\n",
    "In this example, you see 2D convolutional layers (Conv2d), ReLU activations, and fully-connected layers (Linear). You also see the Cross-Entropy loss function, and the Adam optimizer being used. \n",
    "\n",
    "Make sure you understand why the parameters of the Linear layer are 10092 and 10.\n"
   ]
  },
  {
   "cell_type": "code",
   "execution_count": 9,
   "metadata": {
    "colab": {},
    "colab_type": "code",
    "id": "86Z0XTsZkilq"
   },
   "outputs": [],
   "source": [
    "# Here's where we define the architecture of the model... \n",
    "simple_model = nn.Sequential(\n",
    "                nn.Conv2d(3, 32, kernel_size=7, stride=2),\n",
    "                nn.ReLU(inplace=True),\n",
    "                Flatten(), # see above for explanation\n",
    "                nn.Linear(32*29*29, 10), # affine layer\n",
    "              )\n",
    "\n",
    "# Set the type of all data in this model to be FloatTensor \n",
    "simple_model.type(dtype)\n",
    "\n",
    "loss_fn = nn.CrossEntropyLoss().type(dtype)\n",
    "optimizer = optim.Adam(simple_model.parameters(), lr=1e-2) # lr sets the learning rate of the optimizer"
   ]
  },
  {
   "cell_type": "markdown",
   "metadata": {
    "colab_type": "text",
    "id": "Ewte7dUbkilt"
   },
   "source": [
    "PyTorch supports many other layer types, loss functions, and optimizers - you will experiment with these next. Here's the official API documentation for these (if any of the parameters used above were unclear, this resource will also be helpful). \n",
    "\n",
    "* Layers: http://pytorch.org/docs/nn.html\n",
    "* Activations: http://pytorch.org/docs/nn.html#non-linear-activations\n",
    "* Loss functions: http://pytorch.org/docs/nn.html#loss-functions\n",
    "* Optimizers: http://pytorch.org/docs/optim.html#algorithms"
   ]
  },
  {
   "cell_type": "markdown",
   "metadata": {
    "colab_type": "text",
    "id": "p0l2cX4lkilu"
   },
   "source": [
    "## Training a specific model\n",
    "\n",
    "In this section, we're going to specify a model for you to construct. The goal here isn't to get good performance (that'll be next), but instead to get comfortable with understanding the PyTorch documentation and configuring your own model. \n",
    "\n",
    "Using the code provided above as guidance, and using the following PyTorch documentation, specify a model with the following architecture:\n",
    "\n",
    "* 7x7 Convolutional Layer with 8 filters and stride of 1\n",
    "* ReLU Activation Layer\n",
    "* 2x2 Max Pooling layer with a stride of 2\n",
    "* 7x7 Convolutional Layer with 16 filters and stride of 1\n",
    "* ReLU Activation Layer\n",
    "* 2x2 Max Pooling layer with a stride of 2\n",
    "* Flatten the feature map\n",
    "* ReLU Activation Layer\n",
    "* Affine layer to map input units to 10 outputs, you need to figure out the input size here.\n"
   ]
  },
  {
   "cell_type": "code",
   "execution_count": 40,
   "metadata": {
    "colab": {},
    "colab_type": "code",
    "id": "aQHDD56Tkilv"
   },
   "outputs": [],
   "source": [
    "fixed_model_base = nn.Sequential( \n",
    "    ######### 1st TODO (10 points) ###################\n",
    "    nn.Conv2d(3, 8, kernel_size=7, stride=1),\n",
    "    nn.ReLU(inplace=True),\n",
    "    nn.MaxPool2d(2, stride=2),\n",
    "    nn.Conv2d(8, 16, kernel_size=7, stride=1),\n",
    "    nn.ReLU(inplace=True),\n",
    "    nn.MaxPool2d(2, stride=2),\n",
    "    Flatten(),\n",
    "    nn.Linear(16*11*11, 10)\n",
    "    ####################################\n",
    "            )\n",
    "fixed_model = fixed_model_base.type(dtype)\n",
    "\n"
   ]
  },
  {
   "cell_type": "markdown",
   "metadata": {
    "colab_type": "text",
    "id": "6K1qjzb-kilx"
   },
   "source": [
    "To make sure you're doing the right thing, use the following tool to check the dimensionality of your output (it should be 32 x 10, since our batches have size 32 and the output of the final affine layer should be 10, corresponding to our 10 classes):"
   ]
  },
  {
   "cell_type": "code",
   "execution_count": 12,
   "metadata": {
    "colab": {},
    "colab_type": "code",
    "id": "L029BLMHkily"
   },
   "outputs": [
    {
     "name": "stdout",
     "output_type": "stream",
     "text": [
      "[32 10]\n"
     ]
    },
    {
     "data": {
      "text/plain": [
       "True"
      ]
     },
     "execution_count": 12,
     "metadata": {},
     "output_type": "execute_result"
    }
   ],
   "source": [
    "## Now we're going to feed a random batch into the model you defined and make sure the output is the right size\n",
    "x = torch.randn(32, 3, 64, 64).type(dtype)\n",
    "x_var = Variable(x.type(dtype)) # Construct a PyTorch Variable out of your input data\n",
    "\n",
    "ans = fixed_model(x_var)        # Feed it through the model! \n",
    "\n",
    "# Check to make sure what comes out of your model\n",
    "# is the right dimensionality... this should be True\n",
    "# if you've done everything correctly\n",
    "print(np.array(ans.size()))\n",
    "np.array_equal(np.array(ans.size()), np.array([32, 10]))   \n"
   ]
  },
  {
   "cell_type": "markdown",
   "metadata": {
    "colab_type": "text",
    "id": "dU4ZQyD2kil0"
   },
   "source": [
    "### Train the model.\n",
    "\n",
    "Now that you've seen how to define a model and do a single forward pass of some data through it, let's  walk through how you'd actually train one whole epoch over your training data (using the fixed_model_base we provided above).\n",
    "\n",
    "Make sure you understand how each PyTorch function used below corresponds to what you implemented in your custom neural network implementation.\n",
    "\n",
    "Note that because we are not resetting the weights anywhere below, if you run the cell multiple times, you are effectively training multiple epochs (so your performance should improve).\n",
    "\n",
    "First, set up an RMSprop optimizer (using a 1e-4 learning rate) and a cross-entropy loss function:"
   ]
  },
  {
   "cell_type": "code",
   "execution_count": 13,
   "metadata": {
    "colab": {},
    "colab_type": "code",
    "id": "CL0kHO_Rkil1"
   },
   "outputs": [],
   "source": [
    "################ 2nd TODO (8 points) ##################\n",
    "optimizer = optim.RMSprop(fixed_model_base.parameters(), lr=1e-4)\n",
    "loss_fn = nn.CrossEntropyLoss().type(dtype)"
   ]
  },
  {
   "cell_type": "code",
   "execution_count": 14,
   "metadata": {
    "colab": {},
    "colab_type": "code",
    "id": "swBi5_QJkil3"
   },
   "outputs": [
    {
     "name": "stdout",
     "output_type": "stream",
     "text": [
      "t = 100, loss = 1.7027\n",
      "t = 200, loss = 1.7101\n",
      "t = 300, loss = 1.4406\n",
      "t = 400, loss = 1.3306\n",
      "t = 500, loss = 1.3160\n",
      "t = 600, loss = 1.0790\n",
      "t = 700, loss = 0.9841\n"
     ]
    }
   ],
   "source": [
    "# This sets the model in \"training\" mode. \n",
    "# This is relevant for some layers that may have different behavior\n",
    "# in training mode vs testing mode, such as Dropout and BatchNorm. \n",
    "fixed_model.train()\n",
    "\n",
    "# Load one batch at a time.\n",
    "for t, sample in enumerate(image_dataloader_train):\n",
    "    x_var = Variable(sample['image'])\n",
    "    #print(type(x_var.data))\n",
    "    #print(x_var.shape)\n",
    "    y_var = Variable(sample['Label']).long()\n",
    "\n",
    "    # This is the forward pass: predict the scores for each class, for each x in the batch.\n",
    "    scores = fixed_model(x_var)\n",
    "    \n",
    "    # Use the correct y values and the predicted y values to compute the loss.\n",
    "    loss = loss_fn(scores, y_var)\n",
    "    \n",
    "    if (t + 1) % print_every == 0:\n",
    "        print('t = %d, loss = %.4f' % (t + 1, loss.item()))\n",
    "\n",
    "    # Zero out all of the gradients for the variables which the optimizer will update.\n",
    "    optimizer.zero_grad()\n",
    "    \n",
    "    # This is the backwards pass: compute the gradient of the loss with respect to each \n",
    "    # parameter of the model.\n",
    "    loss.backward()\n",
    "    \n",
    "    # Actually update the parameters of the model using the gradients computed by the backwards pass.\n",
    "    optimizer.step()\n",
    "   "
   ]
  },
  {
   "cell_type": "markdown",
   "metadata": {
    "colab_type": "text",
    "id": "F39GZuPmkimH"
   },
   "source": [
    "Now you've seen how the training process works in PyTorch. To save you writing boilerplate code, we're providing the following helper functions to help you train for multiple epochs and check the accuracy of your model:"
   ]
  },
  {
   "cell_type": "code",
   "execution_count": 42,
   "metadata": {
    "colab": {},
    "colab_type": "code",
    "id": "zkwbyfXwkimJ"
   },
   "outputs": [],
   "source": [
    "def train(model, loss_fn, optimizer, dataloader, num_epochs = 1):\n",
    "    for epoch in range(num_epochs):\n",
    "        print('Starting epoch %d / %d' % (epoch + 1, num_epochs))\n",
    "        model.train()\n",
    "        for t, sample in enumerate(dataloader):\n",
    "            x_var = Variable(sample['image'])\n",
    "            y_var = Variable(sample['Label'].long())\n",
    "\n",
    "            scores = model(x_var)\n",
    "            \n",
    "            loss = loss_fn(scores, y_var)\n",
    "            if (t + 1) % print_every == 0:\n",
    "                print('t = %d, loss = %.4f' % (t + 1, loss.item()))\n",
    "\n",
    "            optimizer.zero_grad()\n",
    "            loss.backward()\n",
    "            optimizer.step()\n",
    "\n",
    "def check_accuracy(model, loader):\n",
    "    '''\n",
    "    if loader.dataset.train:\n",
    "        print('Checking accuracy on validation set')\n",
    "    else:\n",
    "        print('Checking accuracy on test set')  \n",
    "    '''\n",
    "    num_correct = 0\n",
    "    num_samples = 0\n",
    "    model.eval() # Put the model in test mode (the opposite of model.train(), essentially)\n",
    "    for t, sample in enumerate(loader):\n",
    "        x_var = Variable(sample['image'])\n",
    "        y_var = sample['Label']\n",
    "        #y_var=y_var.cpu()\n",
    "        scores = model(x_var)\n",
    "        _, preds = scores.data.max(1)#scores.data.cpu().max(1)\n",
    "        #print(preds)\n",
    "        #print(y_var)\n",
    "        num_correct += (preds.numpy() == y_var.numpy()).sum()\n",
    "        num_samples += preds.size(0)\n",
    "    acc = float(num_correct) / num_samples\n",
    "    print('Got %d / %d correct (%.2f)' % (num_correct, num_samples, 100 * acc))\n",
    "    \n",
    "    \n",
    "\n"
   ]
  },
  {
   "cell_type": "markdown",
   "metadata": {
    "colab_type": "text",
    "id": "TgazBdowkimU"
   },
   "source": [
    "### Check the accuracy of the model.\n",
    "\n",
    "Let's see the train and check_accuracy code in action -- feel free to use these methods when evaluating the models you develop below.\n",
    "\n",
    "You should get a training loss of around 1.0-1.2, and a validation accuracy of around 50-60%. As mentioned above, if you re-run the cells, you'll be training more epochs, so your performance will improve past these numbers.\n",
    "\n",
    "But don't worry about getting these numbers better -- this was just practice before you tackle designing your own model."
   ]
  },
  {
   "cell_type": "code",
   "execution_count": 16,
   "metadata": {
    "colab": {},
    "colab_type": "code",
    "id": "e0KVG7cXkimc"
   },
   "outputs": [
    {
     "name": "stdout",
     "output_type": "stream",
     "text": [
      "Starting epoch 1 / 1\n",
      "t = 100, loss = 2.2241\n",
      "t = 200, loss = 2.0989\n",
      "t = 300, loss = 1.9528\n",
      "t = 400, loss = 1.8069\n",
      "t = 500, loss = 1.7384\n",
      "t = 600, loss = 1.6642\n",
      "t = 700, loss = 1.5429\n",
      "Got 11088 / 23310 correct (47.57)\n"
     ]
    }
   ],
   "source": [
    "torch.random.manual_seed(12345)\n",
    "fixed_model.cpu()\n",
    "fixed_model.apply(reset) \n",
    "fixed_model.train() \n",
    "train(fixed_model, loss_fn, optimizer,image_dataloader_train, num_epochs=1) \n",
    "check_accuracy(fixed_model, image_dataloader_train)# check accuracy on the training set\n"
   ]
  },
  {
   "cell_type": "markdown",
   "metadata": {
    "colab_type": "text",
    "id": "xUkUV3uFkimv"
   },
   "source": [
    "### Don't forget the validation set!\n",
    "\n",
    "And note that you can use the check_accuracy function to evaluate on the validation set, by passing **image_dataloader_val** as the second argument to check_accuracy. The accuracy on validation set is arround 40-50%."
   ]
  },
  {
   "cell_type": "code",
   "execution_count": 17,
   "metadata": {
    "colab": {},
    "colab_type": "code",
    "id": "qIPA6RP8kimw"
   },
   "outputs": [
    {
     "name": "stdout",
     "output_type": "stream",
     "text": [
      "Got 2386 / 6690 correct (35.67)\n"
     ]
    }
   ],
   "source": [
    "check_accuracy(fixed_model, image_dataloader_val)#check accuracy on the validation set"
   ]
  },
  {
   "cell_type": "markdown",
   "metadata": {
    "colab_type": "text",
    "id": "0sR_FF3Tkimz"
   },
   "source": [
    "##### Train a better  model for action recognition!\n",
    "\n",
    "Now it's your job to experiment with architectures, hyperparameters, loss functions, and optimizers to train a model that achieves better accuracy on the action recognition **validation** set. You can use the check_accuracy and train functions from above."
   ]
  },
  {
   "cell_type": "markdown",
   "metadata": {
    "colab_type": "text",
    "id": "O6widA8Zkim2"
   },
   "source": [
    "### Things you should try:\n",
    "- **Filter size**: Above we used 7x7; this makes pretty pictures but smaller filters may be more efficient\n",
    "- **Number of filters**: Do more or fewer do better?\n",
    "- **Pooling vs Strided Convolution**: Do you use max pooling or just stride convolutions?\n",
    "- **Batch normalization**: Try adding spatial batch normalization after convolution layers and vanilla batch normalization after affine layers. Do your networks train faster?\n",
    "- **Network architecture**: The network above has two layers of trainable parameters. Can you do better with a deep network? Good architectures to try include:\n",
    "    - [conv-relu-pool]xN -> [affine]xM -> [softmax or SVM]\n",
    "    - [conv-relu-conv-relu-pool]xN -> [affine]xM -> [softmax or SVM]\n",
    "    - [batchnorm-relu-conv]xN -> [affine]xM -> [softmax or SVM]\n",
    "- **Global Average Pooling**: Instead of flattening and then having multiple affine layers, perform convolutions until your image gets small (7x7 or so) and then perform an average pooling operation to get to a 1x1 image picture (1, 1 , Filter#), which is then reshaped into a (Filter#) vector. This is used in [Google's Inception Network](https://arxiv.org/abs/1512.00567) (See Table 1 for their architecture).\n",
    "- **Regularization**: Add l2 weight regularization, or perhaps use Dropout.\n",
    "\n",
    "### Tips for training\n",
    "For each network architecture that you try, you should tune the learning rate and regularization strength. When doing this there are a couple important things to keep in mind:\n",
    "\n",
    "- If the parameters are working well, you should see improvement within a few hundred iterations\n",
    "- Remember the coarse-to-fine approach for hyperparameter tuning: start by testing a large range of hyperparameters for just a few training iterations to find the combinations of parameters that are working at all.\n",
    "- Once you have found some sets of parameters that seem to work, search more finely around these parameters. You may need to train for more epochs.\n",
    "- You should use the validation set for hyperparameter search, and save your test set for evaluating your architecture on the best parameters as selected by the validation set.\n",
    "\n",
    "### Going above and beyond\n",
    "If you are feeling adventurous there are many other features you can implement to try and improve your performance. You are **not required** to implement any of these; however they would be good things to try.\n",
    "\n",
    "- Alternative update steps: For the assignment we implemented SGD+momentum, RMSprop, and Adam; you could try alternatives like AdaGrad or AdaDelta.\n",
    "- Alternative activation functions such as leaky ReLU, parametric ReLU, ELU, or MaxOut.\n",
    "- Model ensembles\n",
    "- Data augmentation\n",
    "- New Architectures\n",
    "  - [ResNets](https://arxiv.org/abs/1512.03385) where the input from the previous layer is added to the output.\n",
    "  - [DenseNets](https://arxiv.org/abs/1608.06993) where inputs into previous layers are concatenated together.\n",
    "  - [This blog has an in-depth overview](https://chatbotslife.com/resnets-highwaynets-and-densenets-oh-my-9bb15918ee32)\n",
    "\n",
    "If you do decide to implement something extra, clearly describe it in the \"Extra Credit Description\" cell below.\n",
    "\n",
    "### What we expect\n",
    "At the very least, you should be able to train a ConvNet that gets at least 55% accuracy on the validation set. This is just a lower bound - if you are careful it should be possible to get accuracies much higher than that! Extra credit points will be awarded for particularly high-scoring models or unique approaches.\n",
    "\n",
    "You should use the space below to experiment and train your network. \n",
    "\n"
   ]
  },
  {
   "cell_type": "code",
   "execution_count": 53,
   "metadata": {
    "colab": {},
    "colab_type": "code",
    "id": "EkBshPcykim3"
   },
   "outputs": [
    {
     "name": "stdout",
     "output_type": "stream",
     "text": [
      "Starting epoch 1 / 20\n",
      "t = 100, loss = 0.9837\n",
      "t = 200, loss = 0.9971\n",
      "t = 300, loss = 0.7508\n",
      "t = 400, loss = 0.8978\n",
      "t = 500, loss = 0.5588\n",
      "t = 600, loss = 0.8241\n",
      "t = 700, loss = 0.6057\n",
      "Starting epoch 2 / 20\n",
      "t = 100, loss = 0.7145\n",
      "t = 200, loss = 0.7224\n",
      "t = 300, loss = 0.2412\n",
      "t = 400, loss = 0.4430\n",
      "t = 500, loss = 0.3577\n",
      "t = 600, loss = 0.3208\n",
      "t = 700, loss = 0.2690\n",
      "Starting epoch 3 / 20\n",
      "t = 100, loss = 0.3104\n",
      "t = 200, loss = 0.5853\n",
      "t = 300, loss = 0.3050\n",
      "t = 400, loss = 0.2153\n",
      "t = 500, loss = 0.1377\n",
      "t = 600, loss = 0.4214\n",
      "t = 700, loss = 0.2928\n",
      "Starting epoch 4 / 20\n",
      "t = 100, loss = 0.4960\n",
      "t = 200, loss = 0.2233\n",
      "t = 300, loss = 0.2696\n",
      "t = 400, loss = 0.3935\n",
      "t = 500, loss = 0.3380\n",
      "t = 600, loss = 0.3373\n",
      "t = 700, loss = 0.2285\n",
      "Starting epoch 5 / 20\n",
      "t = 100, loss = 0.1703\n",
      "t = 200, loss = 0.3625\n",
      "t = 300, loss = 0.2241\n",
      "t = 400, loss = 0.1552\n",
      "t = 500, loss = 0.3849\n",
      "t = 600, loss = 0.3774\n",
      "t = 700, loss = 0.1513\n",
      "Starting epoch 6 / 20\n",
      "t = 100, loss = 0.2132\n",
      "t = 200, loss = 0.2799\n",
      "t = 300, loss = 0.1667\n",
      "t = 400, loss = 0.0855\n",
      "t = 500, loss = 0.1110\n",
      "t = 600, loss = 0.1569\n",
      "t = 700, loss = 0.2190\n",
      "Starting epoch 7 / 20\n",
      "t = 100, loss = 0.1855\n",
      "t = 200, loss = 0.0803\n",
      "t = 300, loss = 0.3818\n",
      "t = 400, loss = 0.1580\n",
      "t = 500, loss = 0.2993\n",
      "t = 600, loss = 0.1528\n",
      "t = 700, loss = 0.3566\n",
      "Starting epoch 8 / 20\n",
      "t = 100, loss = 0.1139\n",
      "t = 200, loss = 0.2073\n",
      "t = 300, loss = 0.2485\n",
      "t = 400, loss = 0.1824\n",
      "t = 500, loss = 0.1267\n",
      "t = 600, loss = 0.1194\n",
      "t = 700, loss = 0.1546\n",
      "Starting epoch 9 / 20\n",
      "t = 100, loss = 0.0236\n",
      "t = 200, loss = 0.0687\n",
      "t = 300, loss = 0.0431\n",
      "t = 400, loss = 0.1080\n",
      "t = 500, loss = 0.0665\n",
      "t = 600, loss = 0.0693\n",
      "t = 700, loss = 0.2052\n",
      "Starting epoch 10 / 20\n",
      "t = 100, loss = 0.0633\n",
      "t = 200, loss = 0.0704\n",
      "t = 300, loss = 0.4151\n",
      "t = 400, loss = 0.1152\n",
      "t = 500, loss = 0.0633\n",
      "t = 600, loss = 0.0598\n",
      "t = 700, loss = 0.1276\n",
      "Starting epoch 11 / 20\n",
      "t = 100, loss = 0.0722\n",
      "t = 200, loss = 0.1617\n",
      "t = 300, loss = 0.2448\n",
      "t = 400, loss = 0.0721\n",
      "t = 500, loss = 0.1639\n",
      "t = 600, loss = 0.0528\n",
      "t = 700, loss = 0.3474\n",
      "Starting epoch 12 / 20\n",
      "t = 100, loss = 0.1769\n",
      "t = 200, loss = 0.0301\n",
      "t = 300, loss = 0.0194\n",
      "t = 400, loss = 0.2629\n",
      "t = 500, loss = 0.0591\n",
      "t = 600, loss = 0.1343\n",
      "t = 700, loss = 0.0422\n",
      "Starting epoch 13 / 20\n",
      "t = 100, loss = 0.1226\n",
      "t = 200, loss = 0.1283\n",
      "t = 300, loss = 0.1114\n",
      "t = 400, loss = 0.0129\n",
      "t = 500, loss = 0.0461\n",
      "t = 600, loss = 0.2693\n",
      "t = 700, loss = 0.0432\n",
      "Starting epoch 14 / 20\n",
      "t = 100, loss = 0.0613\n",
      "t = 200, loss = 0.0985\n",
      "t = 300, loss = 0.0456\n",
      "t = 400, loss = 0.2376\n",
      "t = 500, loss = 0.1973\n",
      "t = 600, loss = 0.0793\n",
      "t = 700, loss = 0.1349\n",
      "Starting epoch 15 / 20\n",
      "t = 100, loss = 0.1947\n",
      "t = 200, loss = 0.0847\n",
      "t = 300, loss = 0.0650\n",
      "t = 400, loss = 0.1120\n",
      "t = 500, loss = 0.2311\n",
      "t = 600, loss = 0.0732\n",
      "t = 700, loss = 0.0541\n",
      "Starting epoch 16 / 20\n",
      "t = 100, loss = 0.0328\n",
      "t = 200, loss = 0.0408\n",
      "t = 300, loss = 0.0632\n",
      "t = 400, loss = 0.1608\n",
      "t = 500, loss = 0.0424\n",
      "t = 600, loss = 0.0329\n",
      "t = 700, loss = 0.0264\n",
      "Starting epoch 17 / 20\n",
      "t = 100, loss = 0.1126\n",
      "t = 200, loss = 0.2003\n",
      "t = 300, loss = 0.0901\n",
      "t = 400, loss = 0.2108\n",
      "t = 500, loss = 0.1418\n",
      "t = 600, loss = 0.0741\n",
      "t = 700, loss = 0.0722\n",
      "Starting epoch 18 / 20\n",
      "t = 100, loss = 0.0142\n",
      "t = 200, loss = 0.0455\n",
      "t = 300, loss = 0.1378\n",
      "t = 400, loss = 0.0878\n",
      "t = 500, loss = 0.2967\n",
      "t = 600, loss = 0.0374\n",
      "t = 700, loss = 0.0245\n",
      "Starting epoch 19 / 20\n",
      "t = 100, loss = 0.0605\n",
      "t = 200, loss = 0.0424\n",
      "t = 300, loss = 0.1200\n",
      "t = 400, loss = 0.0327\n",
      "t = 500, loss = 0.0626\n",
      "t = 600, loss = 0.0959\n",
      "t = 700, loss = 0.0419\n",
      "Starting epoch 20 / 20\n",
      "t = 100, loss = 0.0790\n",
      "t = 200, loss = 0.0356\n",
      "t = 300, loss = 0.0501\n",
      "t = 400, loss = 0.0261\n",
      "t = 500, loss = 0.0723\n",
      "t = 600, loss = 0.0207\n",
      "t = 700, loss = 0.0744\n",
      "Got 4394 / 6690 correct (65.68)\n"
     ]
    }
   ],
   "source": [
    "########### 3rd TODO (15 points, must submit the results to Kaggle) ##############\n",
    "# Train your model here, and make sure the output of this cell is the accuracy of your best model on the \n",
    "# train, val, and test sets. Here's some code to get you started. The output of this cell should be the training\n",
    "# and validation accuracy on your best model (measured by validation accuracy).\n",
    "\n",
    "\n",
    "new_model = nn.Sequential( \n",
    "    nn.BatchNorm2d(3),\n",
    "    nn.Conv2d(3, 8, kernel_size=7 ,stride=1),\n",
    "    nn.Dropout2d(),\n",
    "    nn.ELU(inplace=True),\n",
    "    nn.Conv2d(8, 16, kernel_size=7, stride=1),\n",
    "    nn.ELU(inplace=True),\n",
    "    nn.MaxPool2d(2, stride=2),\n",
    "    Flatten(),\n",
    "    nn.Linear(16*26*26, 128),\n",
    "    nn.Dropout(),\n",
    "    nn.ELU(inplace=True),\n",
    "    nn.Linear(128, 10),\n",
    "            )\n",
    "\n",
    "\n",
    "model = new_model.type(dtype)\n",
    "optimizer = optim.RMSprop(new_model.parameters(), lr=1.22e-4)\n",
    "loss_fn = nn.CrossEntropyLoss().type(dtype)\n",
    "\n",
    "train(new_model, loss_fn, optimizer,image_dataloader_train, num_epochs=20) \n",
    "check_accuracy(model, image_dataloader_val)"
   ]
  },
  {
   "cell_type": "markdown",
   "metadata": {
    "colab_type": "text",
    "id": "Jsq5u4ZXkim6"
   },
   "source": [
    "### Describe what you did \n",
    "\n",
    "In the cell below you should write an explanation of what you did, any additional features that you implemented, and any visualizations or graphs that you make in the process of training and evaluating your network."
   ]
  },
  {
   "cell_type": "markdown",
   "metadata": {
    "colab_type": "text",
    "id": "5BorliZPkim6"
   },
   "source": [
    "Tell us here!\n",
    "########### 4th TODO (7 points) ##############\n",
    "\n",
    "I started with the base model and tried to implement the three arcitectures listed and tested them to see which one had the best average validation accuracy after 2 epoches. The average was from three trails as the same model sometimes gave highly varying results. Eventually I settled upon the [conv-relu-conv-relu-pool]xN -> [affine]xM -> [softmax or SVM] arcitecture. I ended up removing the final softmax layer as it is not needed since the model uses a cross entropy loss function. I also found out that adding an additional linear layer with an activation layer inbetween increased the accuracy. This was also the case when adding batchnormilzation to the beging of the model. After this, the model gave a 55% accuracy on the validation set. After some trial and error with various activation, loss, optimization functions, I setteled upon ELU, cross entropy, and RMSprop with a learning rate of 1.22e-4. With this, the model would have around 57% accuracry on the validation set. From here I started more training for much more epochs, which lowered the accuracy due to the model overfitting. Adding two dropout layers helped resolve this resulting in a best model accuracy of 65.5%. "
   ]
  },
  {
   "cell_type": "markdown",
   "metadata": {
    "colab_type": "text",
    "id": "OEGCO0mGkim7"
   },
   "source": [
    "### Testing the model and submit on Kaggle\n",
    "Testing the model on the testing set and save the results as a .csv file. \n",
    "Please submitted the results.csv file generated by predict_on_test() to Kaggle(https://www.kaggle.com/c/cse353hw6image) to see how well your network performs on the test set. \n",
    "\n",
    "####### 5th TODO (submit the result to Kaggle, the highest 3 entries get extra 10 points )###############"
   ]
  },
  {
   "cell_type": "code",
   "execution_count": 54,
   "metadata": {
    "colab": {},
    "colab_type": "code",
    "id": "fG49zJzdkim8"
   },
   "outputs": [
    {
     "name": "stdout",
     "output_type": "stream",
     "text": [
      "9810\n"
     ]
    }
   ],
   "source": [
    "def predict_on_test(model, loader):\n",
    "    '''\n",
    "    if loader.dataset.train:\n",
    "        print('Checking accuracy on validation set')\n",
    "    else:\n",
    "        print('Checking accuracy on test set')  \n",
    "    '''\n",
    "    num_correct = 0\n",
    "    num_samples = 0\n",
    "    model.eval() # Put the model in test mode (the opposite of model.train(), essentially)\n",
    "    results=open('results.csv','w')\n",
    "    count=0\n",
    "    results.write('Id'+','+'Category'+'\\n')\n",
    "    for t, sample in enumerate(loader):\n",
    "        x_var = Variable(sample['image'])\n",
    "        scores = model(x_var)\n",
    "        _, preds = scores.data.max(1)\n",
    "        for i in range(len(preds)):\n",
    "            results.write(str(count)+','+str(preds[i].item())+'\\n')\n",
    "            count+=1\n",
    "    results.close()\n",
    "    return count\n",
    "    \n",
    "count=predict_on_test(model, image_dataloader_test)\n",
    "print(count)"
   ]
  },
  {
   "cell_type": "markdown",
   "metadata": {
    "colab_type": "text",
    "id": "gojKr6H0kinD"
   },
   "source": [
    "### GPU! (This part is optional, 0 points)\n",
    "\n",
    "If you have access to GPU, you can make the code run on GPU, it would be much faster. \n",
    "\n",
    "Now, we're going to switch the dtype of the model and our data to the GPU-friendly tensors, and see what happens... everything is the same, except we are casting our model and input tensors as this new dtype instead of the old one.\n",
    "\n",
    "If this returns false, or otherwise fails in a not-graceful way (i.e., with some error message), you may not have an NVIDIA GPU available on your machine. "
   ]
  },
  {
   "cell_type": "code",
   "execution_count": null,
   "metadata": {
    "colab": {},
    "colab_type": "code",
    "id": "nx_8-bDUkinE"
   },
   "outputs": [],
   "source": [
    "# Verify that CUDA is properly configured and you have a GPU available\n",
    "\n",
    "torch.cuda.is_available()"
   ]
  },
  {
   "cell_type": "code",
   "execution_count": null,
   "metadata": {
    "colab": {},
    "colab_type": "code",
    "id": "qd19oDZzkinG"
   },
   "outputs": [],
   "source": [
    "import copy\n",
    "gpu_dtype = torch.cuda.FloatTensor\n",
    "\n",
    "fixed_model_gpu = copy.deepcopy(fixed_model_base)#.type(gpu_dtype)\n",
    "fixed_model_gpu.cuda()\n",
    "x_gpu = torch.randn(4, 3, 64, 64).cuda()#.type(gpu_dtype)\n",
    "x_var_gpu = Variable(x_gpu)#type(gpu_dtype)) # Construct a PyTorch Variable out of your input data\n",
    "ans = fixed_model_gpu(x_var_gpu)        # Feed it through the model! \n",
    "\n",
    "# Check to make sure what comes out of your model\n",
    "# is the right dimensionality... this should be True\n",
    "# if you've done everything correctly\n",
    "np.array_equal(np.array(ans.size()), np.array([4, 10]))\n"
   ]
  },
  {
   "cell_type": "markdown",
   "metadata": {
    "colab_type": "text",
    "id": "Q4gsqJpakinJ"
   },
   "source": [
    "Run the following cell to evaluate the performance of the forward pass running on the CPU:"
   ]
  },
  {
   "cell_type": "code",
   "execution_count": null,
   "metadata": {
    "colab": {},
    "colab_type": "code",
    "id": "M9RH8SlYkinK"
   },
   "outputs": [],
   "source": [
    "%%timeit \n",
    "ans = fixed_model(x_var)"
   ]
  },
  {
   "cell_type": "markdown",
   "metadata": {
    "colab_type": "text",
    "id": "mS9ZHu5ikinM"
   },
   "source": [
    "... and now the GPU:"
   ]
  },
  {
   "cell_type": "code",
   "execution_count": null,
   "metadata": {
    "colab": {},
    "colab_type": "code",
    "id": "CXo7XPCykinN"
   },
   "outputs": [],
   "source": [
    "%%timeit \n",
    "torch.cuda.synchronize() # Make sure there are no pending GPU computations\n",
    "ans = fixed_model_gpu(x_var_gpu)        # Feed it through the model! \n",
    "torch.cuda.synchronize() # Make sure there are no pending GPU computations"
   ]
  },
  {
   "cell_type": "markdown",
   "metadata": {
    "colab_type": "text",
    "id": "pHvTgcdykinQ"
   },
   "source": [
    "You should observe that even a simple forward pass like this is significantly faster on the GPU. So for the rest of the assignment (and when you go train your models in assignment 3 and your project!), you should use the GPU datatype for your model and your tensors: as a reminder that is *torch.cuda.FloatTensor* (in our notebook here as *gpu_dtype*)"
   ]
  },
  {
   "cell_type": "markdown",
   "metadata": {
    "colab_type": "text",
    "id": "xCVe55-wkinR"
   },
   "source": [
    "Let's make the loss function and training variables to GPU friendly format by '.cuda()'"
   ]
  },
  {
   "cell_type": "code",
   "execution_count": null,
   "metadata": {
    "colab": {},
    "colab_type": "code",
    "id": "A6cZOqNhkinS"
   },
   "outputs": [],
   "source": [
    "loss_fn = nn.CrossEntropyLoss().cuda()\n",
    "optimizer = optim.RMSprop(fixed_model_gpu.parameters(), lr=1e-4)"
   ]
  },
  {
   "cell_type": "code",
   "execution_count": null,
   "metadata": {
    "colab": {},
    "colab_type": "code",
    "id": "xrW8_ZHCkinU"
   },
   "outputs": [],
   "source": [
    "def train(model, loss_fn, optimizer, dataloader, num_epochs = 1):\n",
    "    for epoch in range(num_epochs):\n",
    "        print('Starting epoch %d / %d' % (epoch + 1, num_epochs))\n",
    "        model.train()\n",
    "        for t, sample in enumerate(dataloader):\n",
    "            x_var = Variable(sample['image'].cuda())\n",
    "            y_var = Variable(sample['Label'].cuda().long())\n",
    "\n",
    "            scores = model(x_var)\n",
    "            \n",
    "            loss = loss_fn(scores, y_var)\n",
    "            if (t + 1) % print_every == 0:\n",
    "                print('t = %d, loss = %.4f' % (t + 1, loss.item())\n",
    "\n",
    "            optimizer.zero_grad()\n",
    "            loss.backward()\n",
    "            optimizer.step()\n",
    "\n",
    "def check_accuracy(model, loader):\n",
    "    '''\n",
    "    if loader.dataset.train:\n",
    "        print('Checking accuracy on validation set')\n",
    "    else:\n",
    "        print('Checking accuracy on test set')  \n",
    "    '''\n",
    "    num_correct = 0\n",
    "    num_samples = 0\n",
    "    model.eval() # Put the model in test mode (the opposite of model.train(), essentially)\n",
    "    for t, sample in enumerate(loader):\n",
    "        x_var = Variable(sample['image'].cuda())\n",
    "        y_var = sample['Label'].cuda()\n",
    "        y_var=y_var.cpu()\n",
    "        scores = model(x_var)\n",
    "        _, preds = scores.data.cpu().max(1)\n",
    "        #print(preds)\n",
    "        #print(y_var)\n",
    "        num_correct += (preds.numpy() == y_var.numpy()).sum()\n",
    "        num_samples += preds.size(0)\n",
    "    acc = float(num_correct) / num_samples\n",
    "    print('Got %d / %d correct (%.2f)' % (num_correct, num_samples, 100 * acc))"
   ]
  },
  {
   "cell_type": "markdown",
   "metadata": {
    "colab_type": "text",
    "id": "4iqg6gwCkinW"
   },
   "source": [
    "Run on GPU!"
   ]
  },
  {
   "cell_type": "code",
   "execution_count": null,
   "metadata": {
    "colab": {},
    "colab_type": "code",
    "id": "4XU96uDgkinX"
   },
   "outputs": [],
   "source": [
    "torch.cuda.random.manual_seed(12345)\n",
    "\n",
    "fixed_model_gpu.apply(reset) \n",
    "fixed_model_gpu.train() \n",
    "train(fixed_model_gpu, loss_fn, optimizer,image_dataloader_train, num_epochs=1) \n",
    "check_accuracy(fixed_model_gpu, image_dataloader_train)# check accuracy on the training set\n"
   ]
  },
  {
   "cell_type": "markdown",
   "metadata": {
    "colab_type": "text",
    "id": "jC4jmL_Fkina"
   },
   "source": [
    "### 3D Convolution on video clips\n",
    "3D convolution is for videos, it has one more dimension than 2d convolution. You can find the document for 3D convolution here http://pytorch.org/docs/master/nn.html#torch.nn.Conv3dIn. In our dataset, each clip is a video of 3 frames. Lets classify the each clip rather than each image using 3D convolution.\n",
    "We offer the data loader, the train_3d and check_accuracy"
   ]
  },
  {
   "cell_type": "code",
   "execution_count": 101,
   "metadata": {
    "colab": {},
    "colab_type": "code",
    "id": "7Wllmp4Nkinb"
   },
   "outputs": [
    {
     "name": "stdout",
     "output_type": "stream",
     "text": [
      "torch.Size([3, 3, 64, 64])\n",
      "0.0\n",
      "00001\n",
      "torch.Size([3, 3, 64, 64])\n",
      "0.0\n",
      "00002\n",
      "torch.Size([3, 3, 64, 64])\n",
      "0.0\n",
      "00003\n",
      "torch.Size([3, 3, 64, 64])\n",
      "0.0\n",
      "00004\n",
      "torch.Size([3, 3, 64, 64])\n",
      "0.0\n",
      "00005\n",
      "torch.Size([3, 3, 64, 64])\n",
      "0.0\n",
      "00006\n",
      "torch.Size([3, 3, 64, 64])\n",
      "0.0\n",
      "00007\n",
      "torch.Size([3, 3, 64, 64])\n",
      "0.0\n",
      "00008\n",
      "torch.Size([3, 3, 64, 64])\n",
      "0.0\n",
      "00009\n",
      "torch.Size([3, 3, 64, 64])\n",
      "0.0\n",
      "00010\n"
     ]
    }
   ],
   "source": [
    "class ActionClipDataset(Dataset):\n",
    "    \"\"\"Action Landmarks dataset.\"\"\"\n",
    "\n",
    "    def __init__(self,  root_dir,labels=[], transform=None):\n",
    "        \"\"\"\n",
    "        Args:\n",
    "            csv_file (string): Path to the csv file with annotations.\n",
    "            root_dir (string): Directory with all the images.\n",
    "            transform (callable, optional): Optional transform to be applied\n",
    "                on a sample.\n",
    "        \"\"\"\n",
    "        \n",
    "        self.root_dir = root_dir\n",
    "        self.transform = transform\n",
    "        self.length=len(os.listdir(self.root_dir))\n",
    "        self.labels=labels\n",
    "\n",
    "    def __len__(self):\n",
    "        return self.length\n",
    "\n",
    "    def __getitem__(self, idx):\n",
    "        \n",
    "        folder=idx+1\n",
    "        folder=format(folder,'05d')\n",
    "        clip=[]\n",
    "        if len(self.labels)!=0:\n",
    "            Label=self.labels[idx][0]-1\n",
    "        for i in range(3):\n",
    "            imidx=i+1\n",
    "            imgname=str(imidx)+'.jpg'\n",
    "            img_path = os.path.join(self.root_dir,\n",
    "                                    folder,imgname)\n",
    "            image = Image.open(img_path)\n",
    "            image=np.array(image)\n",
    "            clip.append(image)\n",
    "        if self.transform:\n",
    "            clip=np.asarray(clip)\n",
    "            clip=np.transpose(clip, (0,3,1,2))\n",
    "            clip = torch.from_numpy(np.asarray(clip))\n",
    "        if len(self.labels)!=0:\n",
    "            sample={'clip':clip,'Label':Label,'folder':folder}\n",
    "        else:\n",
    "            sample={'clip':clip,'folder':folder}\n",
    "        return sample\n",
    "\n",
    "clip_dataset=ActionClipDataset(root_dir='./data/trainClips/',\\\n",
    "                               labels=label_train,transform=T.ToTensor())\n",
    "for i in range(10):\n",
    "    sample=clip_dataset[i]\n",
    "    print(sample['clip'].shape)\n",
    "    print(sample['Label'])\n",
    "    print(sample['folder'])"
   ]
  },
  {
   "cell_type": "code",
   "execution_count": 19,
   "metadata": {
    "colab": {},
    "colab_type": "code",
    "id": "XJBf8xpOkind"
   },
   "outputs": [
    {
     "name": "stdout",
     "output_type": "stream",
     "text": [
      "0 torch.Size([4, 3, 3, 64, 64]) ['06712', '05744', '01778', '03608'] tensor([8., 7., 1., 4.], dtype=torch.float64)\n",
      "1 torch.Size([4, 3, 3, 64, 64]) ['01003', '01163', '00578', '07200'] tensor([1., 1., 0., 9.], dtype=torch.float64)\n",
      "2 torch.Size([4, 3, 3, 64, 64]) ['06561', '05511', '07391', '05888'] tensor([8., 6., 9., 7.], dtype=torch.float64)\n",
      "3 torch.Size([4, 3, 3, 64, 64]) ['01225', '00411', '04503', '05918'] tensor([1., 0., 5., 7.], dtype=torch.float64)\n",
      "4 torch.Size([4, 3, 3, 64, 64]) ['05795', '03307', '05940', '01321'] tensor([7., 3., 7., 1.], dtype=torch.float64)\n",
      "5 torch.Size([4, 3, 3, 64, 64]) ['01685', '07692', '07196', '03869'] tensor([1., 9., 9., 4.], dtype=torch.float64)\n",
      "6 torch.Size([4, 3, 3, 64, 64]) ['01398', '05482', '03336', '04793'] tensor([1., 6., 3., 5.], dtype=torch.float64)\n",
      "7 torch.Size([4, 3, 3, 64, 64]) ['00256', '07754', '00964', '01318'] tensor([0., 9., 1., 1.], dtype=torch.float64)\n",
      "8 torch.Size([4, 3, 3, 64, 64]) ['05290', '04300', '03029', '06359'] tensor([6., 5., 3., 7.], dtype=torch.float64)\n",
      "9 torch.Size([4, 3, 3, 64, 64]) ['01902', '03822', '06829', '02917'] tensor([2., 4., 8., 3.], dtype=torch.float64)\n",
      "10 torch.Size([4, 3, 3, 64, 64]) ['03785', '05143', '00889', '07132'] tensor([4., 6., 0., 9.], dtype=torch.float64)\n",
      "11 torch.Size([4, 3, 3, 64, 64]) ['04018', '02420', '06470', '00555'] tensor([4., 2., 7., 0.], dtype=torch.float64)\n",
      "12 torch.Size([4, 3, 3, 64, 64]) ['07764', '05243', '03421', '04180'] tensor([9., 6., 3., 4.], dtype=torch.float64)\n",
      "13 torch.Size([4, 3, 3, 64, 64]) ['00088', '02890', '04157', '00128'] tensor([0., 3., 4., 0.], dtype=torch.float64)\n",
      "14 torch.Size([4, 3, 3, 64, 64]) ['00803', '06618', '01366', '03777'] tensor([0., 8., 1., 4.], dtype=torch.float64)\n",
      "15 torch.Size([4, 3, 3, 64, 64]) ['01733', '03617', '02390', '03361'] tensor([1., 4., 2., 3.], dtype=torch.float64)\n",
      "16 torch.Size([4, 3, 3, 64, 64]) ['05916', '07511', '06427', '07628'] tensor([7., 9., 7., 9.], dtype=torch.float64)\n",
      "17 torch.Size([4, 3, 3, 64, 64]) ['06721', '07705', '04490', '03781'] tensor([8., 9., 5., 4.], dtype=torch.float64)\n",
      "18 torch.Size([4, 3, 3, 64, 64]) ['07101', '03185', '03452', '01755'] tensor([8., 3., 3., 1.], dtype=torch.float64)\n",
      "19 torch.Size([4, 3, 3, 64, 64]) ['01064', '06343', '02214', '05397'] tensor([1., 7., 2., 6.], dtype=torch.float64)\n",
      "20 torch.Size([4, 3, 3, 64, 64]) ['04840', '05825', '03093', '04778'] tensor([5., 7., 3., 5.], dtype=torch.float64)\n",
      "21 torch.Size([4, 3, 3, 64, 64]) ['02771', '05958', '06521', '07343'] tensor([3., 7., 8., 9.], dtype=torch.float64)\n"
     ]
    }
   ],
   "source": [
    "clip_dataloader = DataLoader(clip_dataset, batch_size=4,\n",
    "                        shuffle=True, num_workers=0)\n",
    "\n",
    "\n",
    "for i,sample in enumerate(clip_dataloader):\n",
    "    print(i,sample['clip'].shape,sample['folder'],sample['Label'])\n",
    "    if i>20: \n",
    "        break"
   ]
  },
  {
   "cell_type": "code",
   "execution_count": 103,
   "metadata": {
    "colab": {},
    "colab_type": "code",
    "id": "2SylcAPWkinh"
   },
   "outputs": [],
   "source": [
    "clip_dataset_train=ActionClipDataset(root_dir='./data/trainClips/',labels=label_train,transform=T.ToTensor())\n",
    "\n",
    "clip_dataloader_train = DataLoader(clip_dataset_train, batch_size=16,\n",
    "                        shuffle=True, num_workers=0)\n",
    "clip_dataset_val=ActionClipDataset(root_dir='./data/valClips/',labels=label_val,transform=T.ToTensor())\n",
    "\n",
    "clip_dataloader_val = DataLoader(clip_dataset_val, batch_size=16,\n",
    "                        shuffle=True, num_workers=0)\n",
    "clip_dataset_test=ActionClipDataset(root_dir='./data/testClips/',labels=[],transform=T.ToTensor())\n",
    "\n",
    "clip_dataloader_test = DataLoader(clip_dataset_test, batch_size=16,\n",
    "                        shuffle=False, num_workers=0)"
   ]
  },
  {
   "cell_type": "markdown",
   "metadata": {
    "colab_type": "text",
    "id": "2-p7djQlkinl"
   },
   "source": [
    "Write the Flatten for 3d convolution feature maps."
   ]
  },
  {
   "cell_type": "code",
   "execution_count": 23,
   "metadata": {
    "colab": {},
    "colab_type": "code",
    "id": "0QONO_BMkinm"
   },
   "outputs": [],
   "source": [
    "class Flatten3d(nn.Module):\n",
    "    def forward(self, x):\n",
    "        ############### 6th TODO (5 points) ###################\n",
    "        N, C, D, H, W,  = x.size()\n",
    "        return x.view(N, -1) "
   ]
  },
  {
   "cell_type": "markdown",
   "metadata": {
    "colab_type": "text",
    "id": "wKlUOJwhkino"
   },
   "source": [
    "Design a network using 3D convolution on videos for video classification."
   ]
  },
  {
   "cell_type": "code",
   "execution_count": 95,
   "metadata": {
    "colab": {},
    "colab_type": "code",
    "id": "h6lZTN5Ckinp"
   },
   "outputs": [
    {
     "data": {
      "text/plain": [
       "True"
      ]
     },
     "execution_count": 95,
     "metadata": {},
     "output_type": "execute_result"
    }
   ],
   "source": [
    "class Net(nn.Module):\n",
    "\n",
    "    def __init__(self):\n",
    "        super(Net, self).__init__()\n",
    "\n",
    "        self.conv1 = nn.Conv3d(3, 64, kernel_size=(3,3,3),stride=2)\n",
    "        self.mPool = nn.MaxPool3d((1,3,3), stride=(1,2,2))\n",
    "        self.conv2 = nn.Conv3d(64, 64, kernel_size=(1,3,3),stride=1)\n",
    "        self.relu = nn.ReLU(inplace=True)\n",
    "        self.avgPool = nn.AvgPool3d((1,11,11), stride=1)\n",
    "        self.fc1 = nn.Linear(64,10)\n",
    "        self.shortcut = nn.Conv3d(64,64, kernel_size=(1,1,1),stride=1, padding=(0,2,2))\n",
    "\n",
    "    def forward(self, x):\n",
    "        x = self.conv1(x)\n",
    "        x = self.mPool(x)\n",
    "        x = self.relu(x)\n",
    "        y = x\n",
    "        x = self.conv2(x)\n",
    "        x = self.relu(x)\n",
    "        x = self.conv2(x)\n",
    "        x = self.shortcut(x)\n",
    "        x = x + y\n",
    "        y = x \n",
    "        x = self.conv2(x)\n",
    "        x = self.relu(x)\n",
    "        x = self.conv2(x)\n",
    "        x = self.shortcut(x)\n",
    "        x = x + y \n",
    "        x = self.conv2(x)\n",
    "        x = self.relu(x)\n",
    "        x = self.conv2(x)\n",
    "        x = self.avgPool(x)\n",
    "        N, C, D, H, W,  = x.size()\n",
    "        x = x.view(N, -1) \n",
    "        x = self.fc1(x)\n",
    "        return x\n",
    "\n",
    "\n",
    "\n",
    "\n",
    "\n",
    "\n",
    "fixed_model_3d = Net ( # You fill this in!\n",
    "    ############### 7th TODO (10 points) #########################\n",
    "    \n",
    "    #See Above\n",
    ")\n",
    "\n",
    "fixed_model_3d = fixed_model_3d.type(dtype)\n",
    "x = torch.randn(32, 3, 3, 64, 64).type(dtype)\n",
    "x_var = Variable(x).type(dtype) # Construct a PyTorch Variable out of your input data\n",
    "ans = fixed_model_3d(x_var) \n",
    "np.array_equal(np.array(ans.size()), np.array([32, 10]))\n"
   ]
  },
  {
   "cell_type": "markdown",
   "metadata": {
    "colab_type": "text",
    "id": "ZF0h635Rkins"
   },
   "source": [
    "### Describe what you did (5 points)\n",
    "\n",
    "In the cell below you should write an explanation of what you did, any additional features that you implemented, and any visualizations or graphs that you make in the process of training and evaluating your network."
   ]
  },
  {
   "cell_type": "markdown",
   "metadata": {
    "colab_type": "text",
    "id": "2dc0X3Cmkint"
   },
   "source": [
    "### 8th TODO Tell us here:\n",
    "I wanted to implement a resnet as I knew from previous testing resnet-18 could achieve 75% accuracy on the validation set after one epoch of training. I tried to create a smaller version of the resnet-18 arcitecture, with an intial convolution and pooling block followed by many convolution blocks, and a final global average pooling layer before the fully connected layer. The one challange I ran into was how to make the output size of one block match the output size of the next block inorder to add them. For this I relied on a 1x1 convolution with padding to make the demensions match."
   ]
  },
  {
   "cell_type": "code",
   "execution_count": 96,
   "metadata": {
    "colab": {},
    "colab_type": "code",
    "id": "dnJsH-Fokinu"
   },
   "outputs": [],
   "source": [
    "loss_fn = nn.CrossEntropyLoss().type(dtype)\n",
    "optimizer = optim.RMSprop(fixed_model_3d.parameters(), lr=1e-4)\n"
   ]
  },
  {
   "cell_type": "code",
   "execution_count": 97,
   "metadata": {
    "colab": {},
    "colab_type": "code",
    "id": "6Bd2qla8kinw"
   },
   "outputs": [],
   "source": [
    "def train_3d(model, loss_fn, optimizer,dataloader,num_epochs = 1):\n",
    "    for epoch in range(num_epochs):\n",
    "        print('Starting epoch %d / %d' % (epoch + 1, num_epochs))\n",
    "        model.train()\n",
    "        for t, sample in enumerate(dataloader):\n",
    "            x_var = Variable(sample['clip'].type(dtype))\n",
    "            y_var = Variable(sample['Label'].type(dtype).long())\n",
    "\n",
    "            scores = model(x_var)\n",
    "            \n",
    "            loss = loss_fn(scores, y_var)\n",
    "            if (t + 1) % print_every == 0:\n",
    "                print('t = %d, loss = %.4f' % (t + 1, loss.item()))\n",
    "\n",
    "            optimizer.zero_grad()\n",
    "            loss.backward()\n",
    "            optimizer.step()\n",
    "\n",
    "def check_accuracy_3d(model, loader):\n",
    "    '''\n",
    "    if loader.dataset.train:\n",
    "        print('Checking accuracy on validation set')\n",
    "    else:\n",
    "        print('Checking accuracy on test set')  \n",
    "    '''\n",
    "    num_correct = 0\n",
    "    num_samples = 0\n",
    "    model.eval() # Put the model in test mode (the opposite of model.train(), essentially)\n",
    "    for t, sample in enumerate(loader):\n",
    "        x_var = Variable(sample['clip'].type(dtype))\n",
    "        y_var = sample['Label'].type(dtype)\n",
    "        y_var=y_var.cpu()\n",
    "        scores = model(x_var)\n",
    "        _, preds = scores.data.cpu().max(1)\n",
    "        #print(preds)\n",
    "        #print(y_var)\n",
    "        num_correct += (preds.numpy() == y_var.numpy()).sum()\n",
    "        num_samples += preds.size(0)\n",
    "    acc = float(num_correct) / num_samples\n",
    "    print('Got %d / %d correct (%.2f)' % (num_correct, num_samples, 100 * acc))"
   ]
  },
  {
   "cell_type": "code",
   "execution_count": 99,
   "metadata": {
    "colab": {},
    "colab_type": "code",
    "id": "S9K2IQkIkiny"
   },
   "outputs": [
    {
     "name": "stdout",
     "output_type": "stream",
     "text": [
      "Starting epoch 1 / 5\n",
      "t = 100, loss = 2.2861\n",
      "t = 200, loss = 1.8549\n",
      "t = 300, loss = 1.5905\n",
      "t = 400, loss = 1.1161\n",
      "Starting epoch 2 / 5\n",
      "t = 100, loss = 1.1048\n",
      "t = 200, loss = 1.4878\n",
      "t = 300, loss = 1.1085\n",
      "t = 400, loss = 1.0670\n",
      "Starting epoch 3 / 5\n",
      "t = 100, loss = 0.8837\n",
      "t = 200, loss = 1.1169\n",
      "t = 300, loss = 0.9678\n",
      "t = 400, loss = 1.0788\n",
      "Starting epoch 4 / 5\n",
      "t = 100, loss = 0.3666\n",
      "t = 200, loss = 0.7714\n",
      "t = 300, loss = 0.7068\n",
      "t = 400, loss = 0.7125\n",
      "Starting epoch 5 / 5\n",
      "t = 100, loss = 0.3182\n",
      "t = 200, loss = 0.7088\n",
      "t = 300, loss = 1.1027\n",
      "t = 400, loss = 0.6486\n",
      "Got 1334 / 2230 correct (59.82)\n"
     ]
    }
   ],
   "source": [
    "torch.cuda.random.manual_seed(12345)\n",
    "fixed_model_3d.apply(reset) \n",
    "fixed_model_3d.train() \n",
    "train_3d(fixed_model_3d, loss_fn, optimizer,clip_dataloader_train, num_epochs=5) \n",
    "fixed_model_3d.eval() \n",
    "check_accuracy_3d(fixed_model_3d, clip_dataloader_val)"
   ]
  },
  {
   "cell_type": "markdown",
   "metadata": {
    "colab_type": "text",
    "collapsed": true,
    "id": "cXdkDuK7kin1"
   },
   "source": [
    "Test your 3d convolution model on the validation set. You don't need to submit the result of this part to kaggle.  "
   ]
  },
  {
   "cell_type": "markdown",
   "metadata": {
    "colab_type": "text",
    "collapsed": true,
    "id": "rluHWqgEkin2"
   },
   "source": [
    "Test your model on the test set, predict_on_test_3d() will generate a file named 'results_3d.csv'. Please submit the csv file to kaggle https://www.kaggle.com/c/cse353hw6video\n",
    "The highest 3 entries get extra 10 points.\n"
   ]
  },
  {
   "cell_type": "code",
   "execution_count": 104,
   "metadata": {
    "colab": {},
    "colab_type": "code",
    "id": "0xSwawMWkioB"
   },
   "outputs": [
    {
     "name": "stdout",
     "output_type": "stream",
     "text": [
      "3270\n"
     ]
    }
   ],
   "source": [
    "def predict_on_test_3d(model, loader):\n",
    "    '''\n",
    "    if loader.dataset.train:\n",
    "        print('Checking accuracy on validation set')\n",
    "    else:\n",
    "        print('Checking accuracy on test set')  \n",
    "    '''\n",
    "    num_correct = 0\n",
    "    num_samples = 0\n",
    "    model.eval() # Put the model in test mode (the opposite of model.train(), essentially)\n",
    "    results=open('results_3d.csv','w')\n",
    "    count=0\n",
    "    results.write('Id'+','+'Category'+'\\n')\n",
    "    for t, sample in enumerate(loader):\n",
    "        x_var = Variable(sample['clip'].type(dtype))\n",
    "        scores = model(x_var)\n",
    "        _, preds = scores.data.max(1)\n",
    "        for i in range(len(preds)):\n",
    "            results.write(str(count)+','+str(preds[i].item())+'\\n')\n",
    "            count+=1\n",
    "    results.close()\n",
    "    return count\n",
    "    \n",
    "count=predict_on_test_3d(fixed_model_3d, clip_dataloader_test)\n",
    "print(count)"
   ]
  },
  {
   "cell_type": "code",
   "execution_count": null,
   "metadata": {
    "colab": {},
    "colab_type": "code",
    "id": "OCE1REm_kioE"
   },
   "outputs": [],
   "source": []
  }
 ],
 "metadata": {
  "colab": {
   "name": "Action_CNN.ipynb",
   "provenance": []
  },
  "kernelspec": {
   "display_name": "Python 3",
   "language": "python",
   "name": "python3"
  },
  "language_info": {
   "codemirror_mode": {
    "name": "ipython",
    "version": 3
   },
   "file_extension": ".py",
   "mimetype": "text/x-python",
   "name": "python",
   "nbconvert_exporter": "python",
   "pygments_lexer": "ipython3",
   "version": "3.7.6"
  }
 },
 "nbformat": 4,
 "nbformat_minor": 1
}
